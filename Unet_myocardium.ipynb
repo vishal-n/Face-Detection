{
  "nbformat": 4,
  "nbformat_minor": 0,
  "metadata": {
    "colab": {
      "name": "Unet_myocardium.ipynb",
      "provenance": [],
      "collapsed_sections": [],
      "include_colab_link": true
    },
    "kernelspec": {
      "name": "python3",
      "display_name": "Python 3"
    },
    "accelerator": "GPU"
  },
  "cells": [
    {
      "cell_type": "markdown",
      "metadata": {
        "id": "view-in-github",
        "colab_type": "text"
      },
      "source": [
        "<a href=\"https://colab.research.google.com/github/vishal-n/Face-Detection/blob/master/Unet_myocardium.ipynb\" target=\"_parent\"><img src=\"https://colab.research.google.com/assets/colab-badge.svg\" alt=\"Open In Colab\"/></a>"
      ]
    },
    {
      "cell_type": "code",
      "metadata": {
        "id": "qt2q3YVIyOWC",
        "colab_type": "code",
        "outputId": "ad78e576-ca6f-4602-fb41-055019fef5d7",
        "colab": {
          "base_uri": "https://localhost:8080/",
          "height": 346
        }
      },
      "source": [
        "from google.colab import drive\n",
        "drive.mount('/content/drive')\n",
        "import matplotlib.pyplot as plt\n",
        "import numpy as np\n",
        "import os\n",
        "from keras import backend as K\n",
        "import cv2\n",
        "from keras.preprocessing.image import ImageDataGenerator\n",
        "import pickle\n",
        "from keras.callbacks import ModelCheckpoint\n",
        "from skimage import img_as_ubyte\n",
        "\n",
        "from keras.models import *\n",
        "from keras.layers import *\n",
        "from keras.optimizers import *\n",
        "\n",
        "seed = 5421\n",
        "np.random.seed(seed)\n",
        "\n",
        "startDir = '/content/drive/My Drive/Colab Notebooks/'\n",
        "weights_dir = startDir\n",
        "\n",
        "mask_train=open(\"/content/drive/My Drive/Colab Notebooks/mask_train_new.pkl\",\"rb\")\n",
        "mask_train=pickle.load(mask_train)\n",
        "mask_test=open(\"/content/drive/My Drive/Colab Notebooks/mask_test_new.pkl\",\"rb\")\n",
        "mask_test=pickle.load(mask_test)\n",
        "mask_dev=open(\"/content/drive/My Drive/Colab Notebooks/mask_dev_new.pkl\",\"rb\")\n",
        "mask_dev=pickle.load(mask_dev)\n",
        "image_train=open(\"/content/drive/My Drive/Colab Notebooks/image_train_new.pkl\",\"rb\")\n",
        "image_train=pickle.load(image_train)\n",
        "image_test=open(\"/content/drive/My Drive/Colab Notebooks/image_test_new.pkl\",\"rb\")\n",
        "image_test=pickle.load(image_test)\n",
        "image_dev=open(\"/content/drive/My Drive/Colab Notebooks/image_dev_new.pkl\",\"rb\")\n",
        "image_dev=pickle.load(image_dev)\n",
        "\n",
        "    \n",
        "s1 = (300,256,256,1)\n",
        "s2 = (75,256,256,1)\n",
        "s3 = (125,256,256,1)\n",
        "####creating 4D array\n",
        "im_tr = np.zeros(s1)\n",
        "ms_tr = np.zeros(s1)\n",
        "im_vl = np.zeros(s2)\n",
        "ms_vl = np.zeros(s2)\n",
        "im_ts = np.zeros(s3)\n",
        "ms_ts = np.zeros(s3)\n",
        "\n",
        "for k in range(300):\n",
        "    im_tr[k,:,:,0] = image_train[:,:,k]/np.max(image_train[:,:,k])\n",
        "    ms_tr[k,:,:,0] = mask_train[:,:,k]\n",
        "\n",
        "for k in range(75):    \n",
        "    im_vl[k,:,:,0] = image_dev[:,:,k] / np.max(image_dev[:,:,k])\n",
        "    ms_vl[k,:,:,0] = mask_dev[:,:,k]\n",
        "\n",
        "for k in range(125):\n",
        "    im_ts[k,:,:,0] = image_test[:,:,k] / np.max(image_test[:,:,k])\n",
        "    ms_ts[k,:,:,0] = mask_test[:,:,k]\n",
        "\n",
        "\n",
        "\n",
        "\n",
        "\n",
        "image_train = im_tr\n",
        "mask_train = ms_tr\n",
        "image_dev = im_vl\n",
        "mask_dev = ms_vl\n",
        "image_test = im_ts\n",
        "mask_test = ms_ts\n",
        "\n",
        "\n",
        "plt.subplot(121)\n",
        "img1=plt.imshow(image_dev[1,:,:,0],cmap='gray')\n",
        "plt.subplot(122)\n",
        "img2=plt.imshow(mask_dev[1,:,:,0],cmap='gray')"
      ],
      "execution_count": 0,
      "outputs": [
        {
          "output_type": "stream",
          "text": [
            "Go to this URL in a browser: https://accounts.google.com/o/oauth2/auth?client_id=947318989803-6bn6qk8qdgf4n4g3pfee6491hc0brc4i.apps.googleusercontent.com&redirect_uri=urn%3Aietf%3Awg%3Aoauth%3A2.0%3Aoob&scope=email%20https%3A%2F%2Fwww.googleapis.com%2Fauth%2Fdocs.test%20https%3A%2F%2Fwww.googleapis.com%2Fauth%2Fdrive%20https%3A%2F%2Fwww.googleapis.com%2Fauth%2Fdrive.photos.readonly%20https%3A%2F%2Fwww.googleapis.com%2Fauth%2Fpeopleapi.readonly&response_type=code\n",
            "\n",
            "Enter your authorization code:\n",
            "··········\n",
            "Mounted at /content/drive\n"
          ],
          "name": "stdout"
        },
        {
          "output_type": "stream",
          "text": [
            "Using TensorFlow backend.\n"
          ],
          "name": "stderr"
        },
        {
          "output_type": "display_data",
          "data": {
            "image/png": "[encoded data removed]",
            "text/plain": [
              "<Figure size 432x288 with 2 Axes>"
            ]
          },
          "metadata": {
            "tags": []
          }
        }
      ]
    },
    {
      "cell_type": "code",
      "metadata": {
        "id": "_mvsvViNyYRw",
        "colab_type": "code",
        "colab": {}
      },
      "source": [
        "def dice_coef(y_true, y_pred, smooth=0.0):\n",
        "    '''Average dice coefficient per batch.'''\n",
        "  \n",
        "    axes = (1,2,3)\n",
        "    intersection = K.sum(y_true * y_pred, axis=axes)\n",
        "    summation = K.sum(y_true, axis=axes) + K.sum(y_pred, axis=axes)\n",
        "    \n",
        "    return K.mean((2.0 * intersection + smooth) / (summation + smooth), axis=0)\n",
        "\n",
        "def jaccard_coef(y_true, y_pred, smooth=0.0):\n",
        "    '''Average jaccard coefficient per batch.'''\n",
        " \n",
        "    axes = (1,2,3)\n",
        "    intersection = K.sum(y_true * y_pred, axis=axes)\n",
        "    union = K.sum(y_true, axis=axes) + K.sum(y_pred, axis=axes) - intersection\n",
        "    return K.mean( (intersection + smooth) / (union + smooth), axis=0)\n",
        "  \n",
        "def dice_loss(smooth):\n",
        "  def dice(y_true, y_pred):\n",
        "    return 1.0 - dice_coef(y_true, y_pred, smooth=smooth)\n",
        "  return dice\n",
        "\n",
        "def dice_mon(smooth):\n",
        "  def dicemon(y_true, y_pred):\n",
        "    return dice_coef(y_true, y_pred, smooth=smooth)\n",
        "  return dicemon\n",
        "\n",
        "def jaccard_mon(smooth):\n",
        "  def jaccardmon(y_true, y_pred):\n",
        "    return jaccard_coef(y_true, y_pred, smooth=smooth)\n",
        "  return jaccardmon\n",
        "\n",
        "\n",
        "\n",
        "\n",
        "def conv_block(layer_before, features, block_no = 0, activation = 'relu', padding = 'same', kernel_initializer = 'glorot_uniform', pool_bool = True):\n",
        "  if pool_bool:\n",
        "    block = '_convblock_'+str(block_no)\n",
        "  else:\n",
        "    block = '_middleblock'\n",
        "  conv = Conv2D(features, 3, activation = activation, padding = padding, kernel_initializer = kernel_initializer, name = 'conv1'+block)(layer_before)\n",
        "  conv = BatchNormalization()(conv)\n",
        "  conv = Conv2D(features, 3, activation = activation, padding = padding, kernel_initializer = kernel_initializer, name = 'conv2'+block)(conv)\n",
        "  conv = BatchNormalization()(conv)\n",
        "  if pool_bool:\n",
        "    conv = MaxPooling2D(pool_size=(2, 2), name = 'pool'+block)(conv)\n",
        "  return conv\n",
        "def deconv_block(layer_before, features, block_no = 0, activation = 'relu', padding = 'same', kernel_initializer = 'glorot_uniform'):\n",
        "  if block_no == 0:\n",
        "    conv = Conv2D(2, 3, activation = activation, padding = padding, kernel_initializer = kernel_initializer)(layer_before)\n",
        "    return conv\n",
        "  block = '_deconvblock_'+str(block_no)\n",
        "  up = UpSampling2D(size = (2,2), name = 'up'+block)(layer_before)\n",
        "  conv = Conv2D(features, 2, activation = activation, padding = padding, kernel_initializer = kernel_initializer, name = 'conv1'+block)(up)\n",
        "  conv = BatchNormalization()(conv)\n",
        "  conv = Conv2D(features, 3, activation = activation, padding = padding, kernel_initializer = kernel_initializer, name = 'conv2'+block)(conv)\n",
        "  conv = BatchNormalization()(conv)\n",
        "  return conv\n",
        "\n",
        "def encoder(input_layer, starting_features = 64, depth=4):\n",
        "  conv_d=[]\n",
        "  conv = input_layer\n",
        "  features = starting_features\n",
        "  for i in range(depth):\n",
        "    conv = conv_block(conv,features, block_no=i+1)\n",
        "    conv_d.append(conv)\n",
        "    features *= 2\n",
        "  return conv, features, conv_d\n",
        "\n",
        "def middle_layer(input_conv, features):\n",
        "  return conv_block(input_conv, features, pool_bool=False)\n",
        "\n",
        "def decoder(input_conv, depth_conv, features=1024, height=4):\n",
        "  conv = input_conv\n",
        "  conv_d = depth_conv\n",
        "  features = int(features/2)\n",
        "  for i in range(height):\n",
        "    conv = concatenate([conv, conv_d[3 - i]],axis=-1)\n",
        "    conv = deconv_block(conv,features, block_no=i+1)\n",
        "    features = int(features/2)\n",
        "  conv = deconv_block(conv,features,block_no=0)\n",
        "  return conv\n",
        "\n",
        "def build_model(input_size = (256,256,1), depth = 4):\n",
        "  inputs = Input(input_size)\n",
        "  conv, features, conv_d = encoder(inputs, depth=depth)\n",
        "  \n",
        "  middle_conv = middle_layer(conv,features)\n",
        "  conv = decoder(middle_conv, conv_d, features = features, height = depth)\n",
        "  out = Conv2D(1, 1, activation = 'sigmoid')(conv)\n",
        "\n",
        "  model = Model(inputs = inputs, outputs = out)\n",
        "\n",
        "  return model"
      ],
      "execution_count": 0,
      "outputs": []
    },
    {
      "cell_type": "code",
      "metadata": {
        "id": "Q0psZ6X_08m1",
        "colab_type": "code",
        "outputId": "663f7784-8e1f-4873-c5c7-1be7d10107c8",
        "colab": {
          "base_uri": "https://localhost:8080/",
          "height": 1000
        }
      },
      "source": [
        "def compile_model(depth = 4): \n",
        "  model = build_model(depth=depth)\n",
        "  smooth=K.epsilon()\n",
        "  model_dice = dice_loss(smooth=smooth)\n",
        "  dicemon = dice_mon(smooth)\n",
        "  jaccardmon = jaccard_mon(smooth)\n",
        "  sgd = SGD(lr=0.01, momentum=0.9, nesterov=True)\n",
        "  model.compile(optimizer = sgd, loss = model_dice, metrics = [dicemon, jaccardmon])  # Adam(lr = 1e-4),\n",
        "  return model\n",
        "\n",
        "\n",
        "kwargs = dict(\n",
        "        rotation_range=180,\n",
        "        zoom_range=0.0,\n",
        "        width_shift_range=0.0,\n",
        "        height_shift_range=0.0,\n",
        "        horizontal_flip=True,\n",
        "        vertical_flip=True,\n",
        "    )\n",
        "\n",
        "image_datagen = ImageDataGenerator(**kwargs)\n",
        "mask_datagen = ImageDataGenerator(**kwargs)\n",
        "val_image_datagen = ImageDataGenerator(**kwargs)\n",
        "val_mask_datagen = ImageDataGenerator(**kwargs)\n",
        "\n",
        "mini_batch_size = 8\n",
        "\n",
        "image_generator = image_datagen.flow(image_train, shuffle=False,\n",
        "                                    batch_size=mini_batch_size, seed=seed)\n",
        "mask_generator = mask_datagen.flow(mask_train, shuffle=False,\n",
        "                                batch_size=mini_batch_size, seed=seed)\n",
        "train_generator = zip(image_generator, mask_generator)\n",
        "\n",
        "val_image_generator = val_image_datagen.flow(image_dev, shuffle=False,\n",
        "                                    batch_size=mini_batch_size, seed=seed)\n",
        "val_mask_generator = val_mask_datagen.flow(mask_dev, shuffle=False,\n",
        "                                batch_size=mini_batch_size, seed=seed)\n",
        "val_generator = zip(val_image_generator, val_mask_generator)\n",
        "\n",
        "\n",
        "\n",
        "model = compile_model(depth = 4)\n",
        "pre_load = True \n",
        "\n",
        "\n",
        "# if preload weights\n",
        "if pre_load:\n",
        "  model_name = '_unet_donut' \n",
        "  epoch_count = 5   #15  # which ealier model weights are to be loaded\n",
        "  saved_weights_file = weights_dir + 'sunnybrook'+model_name+'-{:02d}.hdf5'.format(epoch_count) \n",
        "  model.load_weights(saved_weights_file)\n",
        "  \n",
        "  \n",
        "model_name = '_unet_donut' \n",
        "weights_file = weights_dir + 'sunnybrook'+model_name+'-{epoch:02d}.hdf5' \n",
        "model_checkpoint = ModelCheckpoint(weights_file, monitor='val_dicemon',verbose=1, period=5)  \n",
        "\n",
        "if pre_load:\n",
        "  ie = epoch_count\n",
        "  pre_load = True\n",
        "else:\n",
        "  ie = 0\n",
        "epochs = ie + 4\n",
        "hist = model.fit_generator(train_generator,steps_per_epoch=1000,epochs=epochs,callbacks=[model_checkpoint], validation_data=val_generator, validation_steps=200, initial_epoch=ie)"
      ],
      "execution_count": 0,
      "outputs": [
        {
          "output_type": "stream",
          "text": [
            "WARNING: Logging before flag parsing goes to stderr.\n",
            "W0804 07:31:16.007402 139747466782592 deprecation_wrapper.py:119] From /usr/local/lib/python3.6/dist-packages/keras/backend/tensorflow_backend.py:74: The name tf.get_default_graph is deprecated. Please use tf.compat.v1.get_default_graph instead.\n",
            "\n",
            "W0804 07:31:16.045071 139747466782592 deprecation_wrapper.py:119] From /usr/local/lib/python3.6/dist-packages/keras/backend/tensorflow_backend.py:517: The name tf.placeholder is deprecated. Please use tf.compat.v1.placeholder instead.\n",
            "\n",
            "W0804 07:31:16.055542 139747466782592 deprecation_wrapper.py:119] From /usr/local/lib/python3.6/dist-packages/keras/backend/tensorflow_backend.py:4138: The name tf.random_uniform is deprecated. Please use tf.random.uniform instead.\n",
            "\n",
            "W0804 07:31:16.095918 139747466782592 deprecation_wrapper.py:119] From /usr/local/lib/python3.6/dist-packages/keras/backend/tensorflow_backend.py:174: The name tf.get_default_session is deprecated. Please use tf.compat.v1.get_default_session instead.\n",
            "\n",
            "W0804 07:31:16.096803 139747466782592 deprecation_wrapper.py:119] From /usr/local/lib/python3.6/dist-packages/keras/backend/tensorflow_backend.py:181: The name tf.ConfigProto is deprecated. Please use tf.compat.v1.ConfigProto instead.\n",
            "\n",
            "W0804 07:31:18.988622 139747466782592 deprecation_wrapper.py:119] From /usr/local/lib/python3.6/dist-packages/keras/backend/tensorflow_backend.py:1834: The name tf.nn.fused_batch_norm is deprecated. Please use tf.compat.v1.nn.fused_batch_norm instead.\n",
            "\n",
            "W0804 07:31:19.153648 139747466782592 deprecation_wrapper.py:119] From /usr/local/lib/python3.6/dist-packages/keras/backend/tensorflow_backend.py:3976: The name tf.nn.max_pool is deprecated. Please use tf.nn.max_pool2d instead.\n",
            "\n",
            "W0804 07:31:20.034681 139747466782592 deprecation_wrapper.py:119] From /usr/local/lib/python3.6/dist-packages/keras/backend/tensorflow_backend.py:2018: The name tf.image.resize_nearest_neighbor is deprecated. Please use tf.compat.v1.image.resize_nearest_neighbor instead.\n",
            "\n",
            "W0804 07:31:20.765872 139747466782592 deprecation_wrapper.py:119] From /usr/local/lib/python3.6/dist-packages/keras/optimizers.py:790: The name tf.train.Optimizer is deprecated. Please use tf.compat.v1.train.Optimizer instead.\n",
            "\n"
          ],
          "name": "stderr"
        },
        {
          "output_type": "stream",
          "text": [
            "Epoch 6/9\n",
            "1000/1000 [==============================] - 692s 692ms/step - loss: 0.1986 - dicemon: 0.8014 - jaccardmon: 0.6765 - val_loss: 0.4695 - val_dicemon: 0.5305 - val_jaccardmon: 0.4056\n",
            "Epoch 7/9\n",
            "1000/1000 [==============================] - 682s 682ms/step - loss: 0.1802 - dicemon: 0.8198 - jaccardmon: 0.6995 - val_loss: 0.4355 - val_dicemon: 0.5645 - val_jaccardmon: 0.4388\n",
            "Epoch 8/9\n",
            "1000/1000 [==============================] - 682s 682ms/step - loss: 0.1682 - dicemon: 0.8318 - jaccardmon: 0.7163 - val_loss: 0.8475 - val_dicemon: 0.1525 - val_jaccardmon: 0.1035\n",
            "Epoch 9/9\n",
            "1000/1000 [==============================] - 682s 682ms/step - loss: 0.1595 - dicemon: 0.8405 - jaccardmon: 0.7285 - val_loss: 0.3670 - val_dicemon: 0.6330 - val_jaccardmon: 0.4988\n"
          ],
          "name": "stdout"
        }
      ]
    },
    {
      "cell_type": "code",
      "metadata": {
        "id": "cWGc-BDEak7E",
        "colab_type": "code",
        "colab": {}
      },
      "source": [
        "model.save(weights_dir + 'sunnybrook'+model_name+'-{:02d}.hdf5'.format(9))"
      ],
      "execution_count": 0,
      "outputs": []
    },
    {
      "cell_type": "code",
      "metadata": {
        "id": "qm2p4MfcQy95",
        "colab_type": "code",
        "outputId": "2d2f882d-a3fe-4c5a-8378-82f63ef40694",
        "colab": {
          "base_uri": "https://localhost:8080/",
          "height": 346
        }
      },
      "source": [
        "model_p = build_model(depth=4)\n",
        "epoch_count = 9\n",
        "model_name = '_unet_donut'\n",
        "weights_file = weights_dir + 'sunnybrook'+model_name+'-{:02d}.hdf5'.format(epoch_count) \n",
        "model_p.load_weights(weights_file)"
      ],
      "execution_count": 0,
      "outputs": [
        {
          "output_type": "stream",
          "text": [
            "WARNING: Logging before flag parsing goes to stderr.\n",
            "W0807 04:01:44.000475 140026686465920 deprecation_wrapper.py:119] From /usr/local/lib/python3.6/dist-packages/keras/backend/tensorflow_backend.py:74: The name tf.get_default_graph is deprecated. Please use tf.compat.v1.get_default_graph instead.\n",
            "\n",
            "W0807 04:01:44.035976 140026686465920 deprecation_wrapper.py:119] From /usr/local/lib/python3.6/dist-packages/keras/backend/tensorflow_backend.py:517: The name tf.placeholder is deprecated. Please use tf.compat.v1.placeholder instead.\n",
            "\n",
            "W0807 04:01:44.044881 140026686465920 deprecation_wrapper.py:119] From /usr/local/lib/python3.6/dist-packages/keras/backend/tensorflow_backend.py:4138: The name tf.random_uniform is deprecated. Please use tf.random.uniform instead.\n",
            "\n",
            "W0807 04:01:44.084914 140026686465920 deprecation_wrapper.py:119] From /usr/local/lib/python3.6/dist-packages/keras/backend/tensorflow_backend.py:174: The name tf.get_default_session is deprecated. Please use tf.compat.v1.get_default_session instead.\n",
            "\n",
            "W0807 04:01:44.086241 140026686465920 deprecation_wrapper.py:119] From /usr/local/lib/python3.6/dist-packages/keras/backend/tensorflow_backend.py:181: The name tf.ConfigProto is deprecated. Please use tf.compat.v1.ConfigProto instead.\n",
            "\n",
            "W0807 04:01:46.907144 140026686465920 deprecation_wrapper.py:119] From /usr/local/lib/python3.6/dist-packages/keras/backend/tensorflow_backend.py:1834: The name tf.nn.fused_batch_norm is deprecated. Please use tf.compat.v1.nn.fused_batch_norm instead.\n",
            "\n",
            "W0807 04:01:47.054373 140026686465920 deprecation_wrapper.py:119] From /usr/local/lib/python3.6/dist-packages/keras/backend/tensorflow_backend.py:3976: The name tf.nn.max_pool is deprecated. Please use tf.nn.max_pool2d instead.\n",
            "\n",
            "W0807 04:01:47.921677 140026686465920 deprecation_wrapper.py:119] From /usr/local/lib/python3.6/dist-packages/keras/backend/tensorflow_backend.py:2018: The name tf.image.resize_nearest_neighbor is deprecated. Please use tf.compat.v1.image.resize_nearest_neighbor instead.\n",
            "\n"
          ],
          "name": "stderr"
        }
      ]
    },
    {
      "cell_type": "code",
      "metadata": {
        "id": "C_1bfIhsQ_WT",
        "colab_type": "code",
        "outputId": "0cc2bf77-3b4d-4bcd-ed02-e6d5bc05bc5f",
        "colab": {
          "base_uri": "https://localhost:8080/",
          "height": 68
        }
      },
      "source": [
        "pred_masks = model_p.predict(image_test, batch_size=4, verbose=1)\n",
        "dev_masks = model_p.predict(image_dev, batch_size=4, verbose=1)\n",
        "fit_masks = model_p.predict(image_train, batch_size=4, verbose=1)"
      ],
      "execution_count": 0,
      "outputs": [
        {
          "output_type": "stream",
          "text": [
            "125/125 [==============================] - 10s 78ms/step\n",
            "75/75 [==============================] - 4s 49ms/step\n",
            "300/300 [==============================] - 8s 28ms/step\n"
          ],
          "name": "stdout"
        }
      ]
    },
    {
      "cell_type": "code",
      "metadata": {
        "id": "hc0-Z0T_RV5W",
        "colab_type": "code",
        "outputId": "95494ae8-0fc6-4701-b8f8-0321c4dfca69",
        "colab": {
          "base_uri": "https://localhost:8080/",
          "height": 142
        }
      },
      "source": [
        "k=14\n",
        "plt.subplot(141)\n",
        "img1=plt.imshow(image_test[k,:,:,0],cmap='gray');plt.axis('off')\n",
        "plt.subplot(142)\n",
        "img2=plt.imshow(mask_test[k,:,:,0],cmap='gray');plt.axis('off')\n",
        "plt.subplot(143)\n",
        "img3=plt.imshow(pred_masks[k,:,:,0],cmap='gray');plt.axis('off')\n",
        "plt.subplot(144)\n",
        "img1=plt.imshow(image_test[k,:,:,0],cmap='gray');plt.axis('off')\n",
        "plt.contour(mask_test[k,:,:,0], levels=(1), colors='green', alpha=0.5)\n",
        "plt.contour(pred_masks[k,:,:,0], levels=(1), colors='red', alpha=0.5)\n",
        "dice=2*np.sum(mask_test[k,:,:,0]*pred_masks[k,:,:,0])/(np.sum(mask_test[k,:,:,0])+np.sum(pred_masks[k,:,:,0]))\n",
        "print(dice)"
      ],
      "execution_count": 0,
      "outputs": [
        {
          "output_type": "stream",
          "text": [
            "0.849852188374045\n"
          ],
          "name": "stdout"
        },
        {
          "output_type": "display_data",
          "data": {
            "image/png": "[encoded data removed]",
            "text/plain": [
              "<Figure size 432x288 with 4 Axes>"
            ]
          },
          "metadata": {
            "tags": []
          }
        }
      ]
    },
    {
      "cell_type": "code",
      "metadata": {
        "id": "KvEI4sDIPqiT",
        "colab_type": "code",
        "outputId": "1181c6cf-7b27-49c9-d3b8-56e6ec2fad8e",
        "colab": {
          "base_uri": "https://localhost:8080/",
          "height": 161
        }
      },
      "source": [
        "import math\n",
        "s=(100,360)\n",
        "img_pol=np.zeros(s)\n",
        "msk_pol=np.zeros(s)\n",
        "msk_pol_pred=np.zeros(s)\n",
        "img=image_test[k,:,:,0]\n",
        "msk=mask_test[k,:,:,0]\n",
        "msk_p=pred_masks[k,:,:,0]\n",
        "ind=np.where(msk == 1)\n",
        "cy=np.mean(ind[0][:])\n",
        "cx=np.mean(ind[1][:])\n",
        "for i in range(100):\n",
        "  for j in range(360):\n",
        "    xx=int(i*math.cos(math.pi*j/180)+cx)\n",
        "    yy=int(i*math.sin(math.pi*j/180)+cy)\n",
        "    img_pol[i,j]=img[yy,xx]\n",
        "    msk_pol[i,j]=msk[yy,xx]\n",
        "    msk_pol_pred[i,j]=msk_p[yy,xx]\n",
        "    \n",
        "    \n",
        "img1=plt.imshow(img_pol,cmap='gray')#;plt.axis('off')\n",
        "plt.contour(msk_pol, levels=(1), colors='green', alpha=0.5)\n",
        "plt.contour(msk_pol_pred, levels=(1), colors='red', alpha=0.5)\n",
        "\n",
        "\n",
        "\n",
        "\n",
        "\n"
      ],
      "execution_count": 0,
      "outputs": [
        {
          "output_type": "execute_result",
          "data": {
            "text/plain": [
              "<matplotlib.contour.QuadContourSet at 0x7f59c4be6748>"
            ]
          },
          "metadata": {
            "tags": []
          },
          "execution_count": 40
        },
        {
          "output_type": "display_data",
          "data": {
            "image/png": "[encoded data removed]",
            "text/plain": [
              "<Figure size 432x288 with 1 Axes>"
            ]
          },
          "metadata": {
            "tags": []
          }
        }
      ]
    },
    {
      "cell_type": "code",
      "metadata": {
        "id": "W4hEB7LFRe8A",
        "colab_type": "code",
        "outputId": "f299297d-233c-47dc-8c81-1e1200fbe1c6",
        "colab": {
          "base_uri": "https://localhost:8080/",
          "height": 286
        }
      },
      "source": [
        "import numpy as np\n",
        "dice_val=np.zeros(300)\n",
        "for i in range(300):\n",
        "    mask = np.where(fit_masks[i,:,:,0]>0.5, 1.0, 0.0)\n",
        "    dice_val[i]=2*np.sum(mask_train[i,:,:,0]*mask)/(np.sum(mask_train[i,:,:,0])+np.sum(mask))\n",
        "plt.hist(dice_val, bins=20)\n",
        "np.mean(dice_val)"
      ],
      "execution_count": 0,
      "outputs": [
        {
          "output_type": "execute_result",
          "data": {
            "text/plain": [
              "0.7412304902915139"
            ]
          },
          "metadata": {
            "tags": []
          },
          "execution_count": 8
        },
        {
          "output_type": "display_data",
          "data": {
            "image/png": "[encoded data removed]",
            "text/plain": [
              "<Figure size 432x288 with 1 Axes>"
            ]
          },
          "metadata": {
            "tags": []
          }
        }
      ]
    },
    {
      "cell_type": "code",
      "metadata": {
        "id": "tD8DtkbbRoId",
        "colab_type": "code",
        "outputId": "af6bc9b0-1e30-4c6f-cddc-f16cba3b1f43",
        "colab": {
          "base_uri": "https://localhost:8080/",
          "height": 286
        }
      },
      "source": [
        "import numpy as np\n",
        "dice_val=np.zeros(125)\n",
        "for i in range(125):\n",
        "  mask = np.where(pred_masks[i,:,:,0]>0.5, 1.0, 0.0)\n",
        "  dice_val[i]=2*np.sum(mask_test[i,:,:,0]*mask)/(np.sum(mask_test[i,:,:,0])+np.sum(mask))\n",
        "plt.hist(dice_val, bins=10)\n",
        "np.mean(dice_val)"
      ],
      "execution_count": 0,
      "outputs": [
        {
          "output_type": "execute_result",
          "data": {
            "text/plain": [
              "0.5879607939871494"
            ]
          },
          "metadata": {
            "tags": []
          },
          "execution_count": 9
        },
        {
          "output_type": "display_data",
          "data": {
            "image/png": "[encoded data removed]",
            "text/plain": [
              "<Figure size 432x288 with 1 Axes>"
            ]
          },
          "metadata": {
            "tags": []
          }
        }
      ]
    }
  ]
}